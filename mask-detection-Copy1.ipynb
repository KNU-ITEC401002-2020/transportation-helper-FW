{
 "cells": [
  {
   "cell_type": "code",
   "execution_count": 2,
   "metadata": {},
   "outputs": [
    {
     "name": "stdout",
     "output_type": "stream",
     "text": [
      "\n",
      "crw-rw----+ 1 root video 81, 0 12월  2 18:58 /dev/video0\n",
      "camera created\n"
     ]
    }
   ],
   "source": [
    "# Full reset of the camera\n",
    "!echo 'dlinano' | sudo -S systemctl restart nvargus-daemon && printf '\\n'\n",
    "# Check device number\n",
    "!ls -ltrh /dev/video*\n",
    "\n",
    "# CSI Camera (Raspberry Pi Camera Module V2)\n",
    "from jetcam.csi_camera import CSICamera\n",
    "camera = CSICamera(width=224, height=224)\n",
    "\n",
    "camera.running = True\n",
    "print(\"camera created\")"
   ]
  },
  {
   "cell_type": "code",
   "execution_count": 3,
   "metadata": {},
   "outputs": [
    {
     "name": "stdout",
     "output_type": "stream",
     "text": [
      "mask task with ['mask_on', 'mask_off'] categories defined\n"
     ]
    }
   ],
   "source": [
    "import torchvision.transforms as transforms\n",
    "from dataset import ImageClassificationDataset\n",
    "\n",
    "TASK = 'mask'\n",
    "CATEGORIES = ['mask_on', 'mask_off']\n",
    "DATASETS = ['A', 'B']\n",
    "\n",
    "TRANSFORMS = transforms.Compose([\n",
    "    transforms.ColorJitter(0.2, 0.2, 0.2, 0.2),\n",
    "    transforms.Resize((224, 224)),\n",
    "    transforms.ToTensor(),\n",
    "    transforms.Normalize([0.485, 0.456, 0.406], [0.229, 0.224, 0.225])\n",
    "])\n",
    "\n",
    "datasets = {}\n",
    "for name in DATASETS:\n",
    "    datasets[name] = ImageClassificationDataset(TASK + '_' + name, CATEGORIES, TRANSFORMS)\n",
    "    \n",
    "print(\"{} task with {} categories defined\".format(TASK, CATEGORIES))"
   ]
  },
  {
   "cell_type": "code",
   "execution_count": 5,
   "metadata": {},
   "outputs": [
    {
     "name": "stdout",
     "output_type": "stream",
     "text": [
      "data_collection_widget created\n"
     ]
    }
   ],
   "source": [
    "import ipywidgets\n",
    "import traitlets\n",
    "from IPython.display import display\n",
    "from jetcam.utils import bgr8_to_jpeg\n",
    "\n",
    "# initialize active dataset\n",
    "dataset = datasets[DATASETS[0]]\n",
    "\n",
    "# unobserve all callbacks from camera in case we are running this cell for second time\n",
    "camera.unobserve_all()\n",
    "\n",
    "# create image preview\n",
    "camera_widget = ipywidgets.Image()\n",
    "traitlets.dlink((camera, 'value'), (camera_widget, 'value'), transform=bgr8_to_jpeg)\n",
    "\n",
    "data_collection_widget = ipywidgets.HBox([camera_widget])\n",
    "\n",
    "print(\"data_collection_widget created\")"
   ]
  },
  {
   "cell_type": "code",
   "execution_count": 6,
   "metadata": {},
   "outputs": [
    {
     "data": {
      "text/plain": [
       "<All keys matched successfully>"
      ]
     },
     "execution_count": 6,
     "metadata": {},
     "output_type": "execute_result"
    }
   ],
   "source": [
    "import torch\n",
    "import torchvision\n",
    "\n",
    "\n",
    "device = torch.device('cuda')\n",
    "\n",
    "# RESNET 18\n",
    "model = torchvision.models.resnet18(pretrained=True)\n",
    "model.fc = torch.nn.Linear(512, len(dataset.categories))\n",
    "    \n",
    "model = model.to(device)\n",
    "model.load_state_dict(torch.load('10model.pth'))\n",
    "\n",
    "print(\"model loaded\")"
   ]
  },
  {
   "cell_type": "code",
   "execution_count": 7,
   "metadata": {},
   "outputs": [
    {
     "name": "stdout",
     "output_type": "stream",
     "text": [
      "live_execution_widget created\n"
     ]
    }
   ],
   "source": [
    "import threading\n",
    "import time\n",
    "from utils import preprocess\n",
    "import torch.nn.functional as F\n",
    "\n",
    "state_widget = ipywidgets.ToggleButtons(options=['stop', 'live'], description='state', value='stop')\n",
    "prediction_widget = ipywidgets.Text(description='prediction')\n",
    "score_widgets = []\n",
    "for category in dataset.categories:\n",
    "    score_widget = ipywidgets.FloatSlider(min=0.0, max=1.0, description=category, orientation='vertical')\n",
    "    score_widgets.append(score_widget)\n",
    "\n",
    "def live(state_widget, model, camera, prediction_widget, score_widget):\n",
    "    global dataset\n",
    "    while state_widget.value == 'live':\n",
    "        image = camera.value\n",
    "        preprocessed = preprocess(image)\n",
    "        output = model(preprocessed)\n",
    "        output = F.softmax(output, dim=1).detach().cpu().numpy().flatten()\n",
    "        category_index = output.argmax()\n",
    "        prediction_widget.value = dataset.categories[category_index]\n",
    "        for i, score in enumerate(list(output)):\n",
    "            score_widgets[i].value = score\n",
    "            \n",
    "def start_live(change):\n",
    "    if change['new'] == 'live':\n",
    "        execute_thread = threading.Thread(target=live, args=(state_widget, model, camera, prediction_widget, score_widget))\n",
    "        execute_thread.start()\n",
    "\n",
    "state_widget.observe(start_live, names='value')\n",
    "\n",
    "live_execution_widget = ipywidgets.VBox([\n",
    "    ipywidgets.HBox(score_widgets),\n",
    "    prediction_widget,\n",
    "    state_widget\n",
    "])\n",
    "\n",
    "print(\"live_execution_widget created\")"
   ]
  },
  {
   "cell_type": "code",
   "execution_count": 8,
   "metadata": {},
   "outputs": [
    {
     "name": "stdout",
     "output_type": "stream",
     "text": [
      "trainer configured and train_eval_widget created\n"
     ]
    }
   ],
   "source": [
    "BATCH_SIZE = 8\n",
    "\n",
    "optimizer = torch.optim.Adam(model.parameters())\n",
    "\n",
    "epochs_widget = ipywidgets.IntText(description='epochs', value=1)\n",
    "loss_widget = ipywidgets.FloatText(description='loss')\n",
    "accuracy_widget = ipywidgets.FloatText(description='accuracy')\n",
    "progress_widget = ipywidgets.FloatProgress(min=0.0, max=1.0, description='progress')\n",
    "\n",
    "def train_eval(is_training):\n",
    "    global BATCH_SIZE, LEARNING_RATE, MOMENTUM, model, dataset, optimizer, eval_button, train_button, accuracy_widget, loss_widget, progress_widget, state_widget\n",
    "    \n",
    "    try:\n",
    "        train_loader = torch.utils.data.DataLoader(\n",
    "            dataset,\n",
    "            batch_size=BATCH_SIZE,\n",
    "            shuffle=True\n",
    "        )\n",
    "\n",
    "        if is_training:\n",
    "            model = model.train()\n",
    "        else:\n",
    "            model = model.eval()\n",
    "        while epochs_widget.value > 0:\n",
    "            i = 0\n",
    "            sum_loss = 0.0\n",
    "            error_count = 0.0\n",
    "            for images, labels in iter(train_loader):\n",
    "                # send data to device\n",
    "                images = images.to(device)\n",
    "                labels = labels.to(device)\n",
    "\n",
    "                if is_training:\n",
    "                    # zero gradients of parameters\n",
    "                    optimizer.zero_grad()\n",
    "\n",
    "                # execute model to get outputs\n",
    "                outputs = model(images)\n",
    "\n",
    "                # compute loss\n",
    "                loss = F.cross_entropy(outputs, labels)\n",
    "\n",
    "                if is_training:\n",
    "                    # run backpropogation to accumulate gradients\n",
    "                    loss.backward()\n",
    "\n",
    "                    # step optimizer to adjust parameters\n",
    "                    optimizer.step()\n",
    "\n",
    "                # increment progress\n",
    "                error_count += len(torch.nonzero(outputs.argmax(1) - labels).flatten())\n",
    "                count = len(labels.flatten())\n",
    "                i += count\n",
    "                sum_loss += float(loss)\n",
    "                progress_widget.value = i / len(dataset)\n",
    "                loss_widget.value = sum_loss / i\n",
    "                accuracy_widget.value = 1.0 - error_count / i\n",
    "                \n",
    "            if is_training:\n",
    "                epochs_widget.value = epochs_widget.value - 1\n",
    "            else:\n",
    "                break\n",
    "    except e:\n",
    "        pass\n",
    "    model = model.eval()\n",
    "    state_widget.value = 'live'\n",
    "\n",
    "train_eval(is_training=False)\n",
    "                     \n",
    "train_eval_widget = ipywidgets.VBox([\n",
    "    epochs_widget,\n",
    "    progress_widget,\n",
    "    loss_widget,\n",
    "    accuracy_widget,\n",
    "])\n",
    "\n",
    "print(\"trainer configured and train_eval_widget created\")"
   ]
  },
  {
   "cell_type": "code",
   "execution_count": 9,
   "metadata": {},
   "outputs": [
    {
     "data": {
      "application/vnd.jupyter.widget-view+json": {
       "model_id": "7a362f5358754f6c94485151cbd1445f",
       "version_major": 2,
       "version_minor": 0
      },
      "text/plain": [
       "VBox(children=(HBox(children=(VBox(children=(HBox(children=(FloatSlider(value=0.0, description='mask_on', max=…"
      ]
     },
     "metadata": {},
     "output_type": "display_data"
    }
   ],
   "source": [
    "# Combine all the widgets into one display\n",
    "all_widget = ipywidgets.VBox([\n",
    "    ipywidgets.HBox([live_execution_widget]), \n",
    "    train_eval_widget,\n",
    "    #model_widget\n",
    "])\n",
    "\n",
    "display(all_widget)"
   ]
  },
  {
   "cell_type": "code",
   "execution_count": null,
   "metadata": {},
   "outputs": [
    {
     "name": "stdout",
     "output_type": "stream",
     "text": [
      "Starting demo now! Press CTRL+C to exit\n",
      "Entry Rejected\n",
      "Open door\n",
      "{'status_code': 404, 'ok': False, 'encoding': 'utf-8', 'Content-Type': 'application/json; charset=utf-8'}\n",
      "Entry Accepted\n",
      "Open door\n",
      "{'status_code': 404, 'ok': False, 'encoding': 'utf-8', 'Content-Type': 'application/json; charset=utf-8'}\n",
      "Entry Accepted\n",
      "Open door\n",
      "{'status_code': 404, 'ok': False, 'encoding': 'utf-8', 'Content-Type': 'application/json; charset=utf-8'}\n",
      "Entry Rejected\n"
     ]
    }
   ],
   "source": [
    "### Bell Control & Mask Detection & Server Communication function\n",
    "import RPi.GPIO as GPIO\n",
    "import time\n",
    "import requests\n",
    "import json\n",
    "\n",
    "# HTTP Request\n",
    "def httpRequest(method, url, is_urlencoded=True):\n",
    "    if method == 'GET':\n",
    "        response = requests.get(url=url)\n",
    "    elif method == 'POST':\n",
    "        if is_urlencoded is True:\n",
    "            response = requests.post(url=url, headers={'Content-Type': 'application/x-www-form-urlencoded'})\n",
    "        else:\n",
    "            response = requests.post(url=url, headers={'Content-Type': 'application/json'})\n",
    "    \n",
    "    dict_meta = {'status_code':response.status_code, 'ok':response.ok, 'encoding':response.encoding, 'Content-Type': response.headers['Content-Type']}\n",
    "    \n",
    "    return {**dict_meta, **response.json()}\n",
    "\n",
    "# Bell state up&download\n",
    "def getBell():\n",
    "    url  = 'https://asia-northeast2-transportation-helper.cloudfunctions.net/api/stop?bus=937'\n",
    "    response = httpRequest(method='GET', url=url)\n",
    "\n",
    "    print(response)\n",
    "\n",
    "\n",
    "def updateBell():\n",
    "    bell_state = '1';\n",
    "    url  = 'https://asia-northeast2-transportation-helper.cloudfunctions.net/api/stop?bus=937&action=' + bell_state\n",
    "    response = httpRequest(method='POST', url=url)\n",
    "\n",
    "    print(response)\n",
    "\n",
    "# Pin Definitions\n",
    "green_pin = 18  # BOARD pin 12, BCM pin 18 IN1 - Green LED\n",
    "blue_pin = 23  # BOARD pin 16, BCM pin 23 IN1 - Blue LED\n",
    "button_pin = 25 # BOARD pin 22, BCM pin 25 IN\n",
    "\n",
    "GPIO.setmode(GPIO.BCM)\n",
    "\n",
    "GPIO.setup(green_pin, GPIO.OUT, initial=GPIO.LOW)\n",
    "GPIO.setup(button_pin, GPIO.IN, pull_up_down=GPIO.PUD_DOWN)\n",
    "GPIO.setup(blue_pin, GPIO.OUT, initial=GPIO.HIGH)\n",
    "\n",
    "BUTTON = GPIO.input(button_pin)\n",
    "\n",
    "print(\"Starting demo now! Press CTRL+C to exit\")\n",
    "try:\n",
    "    while True:\n",
    "        if(prediction_widget.value == 'mask_on'):\n",
    "            # Pass Mode \n",
    "            GPIO.setup(green_pin, GPIO.OUT, initial=GPIO.LOW)\n",
    "            print('Entry Accepted')\n",
    "            time.sleep(5)\n",
    "            BUTTON = GPIO.input(button_pin)\n",
    "            \n",
    "        if(prediction_widget.value == 'mask_off'):\n",
    "            # Alert\n",
    "            GPIO.setup(green_pin, GPIO.OUT, initial=GPIO.HIGH)\n",
    "            print('Entry Rejected')\n",
    "            time.sleep(5)\n",
    "            BUTTON = GPIO.input(button_pin)\n",
    "        \n",
    "        if(BUTTON == 1):\n",
    "            BUTTON = 0\n",
    "            GPIO.setup(blue_pin, GPIO.OUT, initial=GPIO.LOW)\n",
    "            print('Open door')\n",
    "            getBell()\n",
    "            time.sleep(5)\n",
    "            BUTTON = GPIO.input(button_pin)\n",
    "        \n",
    "        #if(response == 0):\n",
    "        #    getBell()\n",
    "        #else:\n",
    "        #    GPIO.setup(blue_pin, GPIO.OUT, initial=GPIO.HIGH)\n",
    "        #    response = 0\n",
    "            \n",
    "except KeyboardInterrupt:\n",
    "    GPIO.setup(blue_pin, GPIO.OUT, initial=GPIO.LOW)\n",
    "    GPIO.setup(green_pin, GPIO.OUT, initial=GPIO.LOW)\n",
    "    GPIO.setup(button_pin, GPIO.IN, pull_up_down=GPIO.PUD_DOWN)\n",
    "    \n",
    "finally:\n",
    "    GPIO.cleanup()"
   ]
  },
  {
   "cell_type": "code",
   "execution_count": null,
   "metadata": {},
   "outputs": [],
   "source": []
  },
  {
   "cell_type": "code",
   "execution_count": null,
   "metadata": {},
   "outputs": [],
   "source": []
  }
 ],
 "metadata": {
  "kernelspec": {
   "display_name": "Python 3",
   "language": "python",
   "name": "python3"
  },
  "language_info": {
   "codemirror_mode": {
    "name": "ipython",
    "version": 3
   },
   "file_extension": ".py",
   "mimetype": "text/x-python",
   "name": "python",
   "nbconvert_exporter": "python",
   "pygments_lexer": "ipython3",
   "version": "3.6.9"
  }
 },
 "nbformat": 4,
 "nbformat_minor": 4
}
